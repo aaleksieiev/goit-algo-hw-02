{
  "nbformat": 4,
  "nbformat_minor": 0,
  "metadata": {
    "colab": {
      "provenance": [],
      "authorship_tag": "ABX9TyMfY3w+mA8jJzhkKTV1Sjv3",
      "include_colab_link": true
    },
    "kernelspec": {
      "name": "python3",
      "display_name": "Python 3"
    },
    "language_info": {
      "name": "python"
    }
  },
  "cells": [
    {
      "cell_type": "markdown",
      "metadata": {
        "id": "view-in-github",
        "colab_type": "text"
      },
      "source": [
        "<a href=\"https://colab.research.google.com/github/aaleksieiev/goit-algo-hw-02/blob/main/%D0%94%D0%972_%D0%90%D0%BB%D0%B5%D0%BA%D1%81%D1%94%D1%94%D0%B2%D0%90%D0%92.ipynb\" target=\"_parent\"><img src=\"https://colab.research.google.com/assets/colab-badge.svg\" alt=\"Open In Colab\"/></a>"
      ]
    },
    {
      "cell_type": "markdown",
      "source": [
        "# Домашнє завдання до теми “Основні структури даних”"
      ],
      "metadata": {
        "id": "MCtpIa-pRn0g"
      }
    },
    {
      "cell_type": "markdown",
      "source": [
        "# Завдання 1\n",
        "Потрібно розробити програму, яка імітує приймання й обробку заявок: програма має автоматично генерувати нові заявки (ідентифіковані унікальним номером або іншими даними), додавати їх до черги, а потім послідовно видаляти з черги для \"обробки\", імітуючи таким чином роботу сервісного центру."
      ],
      "metadata": {
        "id": "SSMFJEo8RujH"
      }
    },
    {
      "cell_type": "code",
      "source": [
        "from queue import Queue\n",
        "import uuid\n",
        "import random\n",
        "import time\n",
        "\n",
        "class Request:\n",
        "  def __init__(self, id, name):\n",
        "      self.id = id\n",
        "      self.name = name\n",
        "  def get_identification(self):\n",
        "    return (str(self.id), str(self.name))\n",
        "\n",
        "class Server:\n",
        "  def __init__(self):\n",
        "    self.requests = Queue()\n",
        "\n",
        "  def generate_request(self, request: Request):\n",
        "    self.requests.put(request)\n",
        "    print(f\"Request {request.get_identification()} added\")\n",
        "\n",
        "  def process_request(self):\n",
        "    while not self.requests.empty():\n",
        "      current_request = self.requests.get()\n",
        "      print(f\"Request {current_request.get_identification()} deletted\")\n",
        "\n",
        "    print(\"Queue is empty\")\n",
        "\n",
        "def main():\n",
        "  try:\n",
        "    server = Server()\n",
        "    while True:\n",
        "      for i in range(random.randint(1, 7)):\n",
        "        request = Request(uuid.uuid4(), f\"Request#{i}\")\n",
        "        server.generate_request(request)\n",
        "      server.process_request()\n",
        "      time.sleep(3)\n",
        "\n",
        "  except KeyboardInterrupt:\n",
        "    pass\n",
        "    print(\"Quit server\")\n",
        "\n",
        "if __name__ == \"__main__\":\n",
        "    main()"
      ],
      "metadata": {
        "colab": {
          "base_uri": "https://localhost:8080/"
        },
        "id": "J51bIQ86Rvfn",
        "outputId": "59eca6a7-4f8a-4430-9256-298a5294a911"
      },
      "execution_count": 32,
      "outputs": [
        {
          "output_type": "stream",
          "name": "stdout",
          "text": [
            "Request ('101f78c9-ee13-4342-b463-4b3a2194a98c', 'Request#0') added\n",
            "Request ('3600cf17-7d7a-4ea5-9799-261cfee7d1a6', 'Request#1') added\n",
            "Request ('797a8cda-3180-436f-9381-833f082a014a', 'Request#2') added\n",
            "Request ('101f78c9-ee13-4342-b463-4b3a2194a98c', 'Request#0') deletted\n",
            "Request ('3600cf17-7d7a-4ea5-9799-261cfee7d1a6', 'Request#1') deletted\n",
            "Request ('797a8cda-3180-436f-9381-833f082a014a', 'Request#2') deletted\n",
            "Queue is empty\n",
            "Request ('fee0a192-7fe1-4766-857a-d27b79225655', 'Request#0') added\n",
            "Request ('6bc24442-272f-480c-83a1-b720dd434729', 'Request#1') added\n",
            "Request ('ac278501-e515-4e29-bb2f-7a577bd7491f', 'Request#2') added\n",
            "Request ('51ca59aa-2743-445b-bb60-56139b5f6fa6', 'Request#3') added\n",
            "Request ('dd5bc846-3e4b-47de-ac7c-ef6f88ff46d0', 'Request#4') added\n",
            "Request ('0acbe11f-cfe5-49d4-8993-7a0f400c2c02', 'Request#5') added\n",
            "Request ('2f05c3fc-71e4-4485-ad3c-ef64f0cfc498', 'Request#6') added\n",
            "Request ('fee0a192-7fe1-4766-857a-d27b79225655', 'Request#0') deletted\n",
            "Request ('6bc24442-272f-480c-83a1-b720dd434729', 'Request#1') deletted\n",
            "Request ('ac278501-e515-4e29-bb2f-7a577bd7491f', 'Request#2') deletted\n",
            "Request ('51ca59aa-2743-445b-bb60-56139b5f6fa6', 'Request#3') deletted\n",
            "Request ('dd5bc846-3e4b-47de-ac7c-ef6f88ff46d0', 'Request#4') deletted\n",
            "Request ('0acbe11f-cfe5-49d4-8993-7a0f400c2c02', 'Request#5') deletted\n",
            "Request ('2f05c3fc-71e4-4485-ad3c-ef64f0cfc498', 'Request#6') deletted\n",
            "Queue is empty\n",
            "Request ('1a6df41c-a9f1-4127-8097-b0ebb777b6f8', 'Request#0') added\n",
            "Request ('3867cb20-9105-4c5d-9911-656b41385d10', 'Request#1') added\n",
            "Request ('162f60a5-21f9-4027-a389-3a62522bdaa2', 'Request#2') added\n",
            "Request ('237355d1-405f-4f8b-9274-ac8917af7a92', 'Request#3') added\n",
            "Request ('bf07aaff-8d42-44a1-8967-ecf91e1e0bfd', 'Request#4') added\n",
            "Request ('4282fa00-fbc9-45d2-b43d-c707327c4bae', 'Request#5') added\n",
            "Request ('3d7182ca-08ec-4a9f-b192-36ae935708e3', 'Request#6') added\n",
            "Request ('1a6df41c-a9f1-4127-8097-b0ebb777b6f8', 'Request#0') deletted\n",
            "Request ('3867cb20-9105-4c5d-9911-656b41385d10', 'Request#1') deletted\n",
            "Request ('162f60a5-21f9-4027-a389-3a62522bdaa2', 'Request#2') deletted\n",
            "Request ('237355d1-405f-4f8b-9274-ac8917af7a92', 'Request#3') deletted\n",
            "Request ('bf07aaff-8d42-44a1-8967-ecf91e1e0bfd', 'Request#4') deletted\n",
            "Request ('4282fa00-fbc9-45d2-b43d-c707327c4bae', 'Request#5') deletted\n",
            "Request ('3d7182ca-08ec-4a9f-b192-36ae935708e3', 'Request#6') deletted\n",
            "Queue is empty\n",
            "Request ('3583992b-d4dd-4ab3-8ec4-79e7ece2808c', 'Request#0') added\n",
            "Request ('f87eb459-b9d8-43df-8876-de429321fa76', 'Request#1') added\n",
            "Request ('2a60b8f5-8f74-4c1b-a832-6e96465c7a74', 'Request#2') added\n",
            "Request ('e9965144-8542-4a5c-92c2-1c4657169911', 'Request#3') added\n",
            "Request ('3583992b-d4dd-4ab3-8ec4-79e7ece2808c', 'Request#0') deletted\n",
            "Request ('f87eb459-b9d8-43df-8876-de429321fa76', 'Request#1') deletted\n",
            "Request ('2a60b8f5-8f74-4c1b-a832-6e96465c7a74', 'Request#2') deletted\n",
            "Request ('e9965144-8542-4a5c-92c2-1c4657169911', 'Request#3') deletted\n",
            "Queue is empty\n",
            "Quit server\n"
          ]
        }
      ]
    },
    {
      "cell_type": "markdown",
      "source": [
        "# Завдання 2\n",
        "\n",
        "Необхідно розробити функцію, яка приймає рядок як вхідний параметр, додає всі його символи до двосторонньої черги (deque з модуля collections в Python), а потім порівнює символи з обох кінців черги, щоб визначити, чи є рядок паліндромом. Програма повинна правильно враховувати як рядки з парною, так і з непарною кількістю символів, а також бути нечутливою до регістру та пробілів."
      ],
      "metadata": {
        "id": "njWJkTEaSW7z"
      }
    },
    {
      "cell_type": "code",
      "source": [
        "from collections import deque\n",
        "\n",
        "def palindrom_detection(text):\n",
        "  d = deque()\n",
        "  d.extend(list(text))\n",
        "  has_last = False\n",
        "  has_left = False\n",
        "  while True:\n",
        "    if not has_last:\n",
        "      try:\n",
        "        last = d.pop()\n",
        "        if last.isalpha() or last.isnumeric() or last == None:\n",
        "          has_last = True\n",
        "      except IndexError:\n",
        "        has_last = True\n",
        "        last = ''\n",
        "\n",
        "    if not has_left:\n",
        "      try:\n",
        "        left = d.popleft()\n",
        "        if left.isalpha() or left.isnumeric() or left == None:\n",
        "          has_left = True\n",
        "      except IndexError:\n",
        "        has_left = True\n",
        "        left = ''\n",
        "\n",
        "    if has_last and has_left:\n",
        "      if last.lower() == left.lower():\n",
        "        has_last = False\n",
        "        has_left = False\n",
        "      if (last == '' and left != '') or (last != '' and left == ''):\n",
        "        return f\"{text} is odd plindrome\"\n",
        "      if last == '' and left == '':\n",
        "        return f\"{text} is even plindrome\"\n",
        "      if last.lower() != left.lower():\n",
        "        return f\"{text} is not a polindrome\"\n",
        "\n",
        "\n",
        "def main():\n",
        "  print(palindrom_detection('madam'))\n",
        "  print(palindrom_detection('racecar'))\n",
        "  print(palindrom_detection('12/21/33 12:21'))\n",
        "  print(palindrom_detection('A man, a plan, a canal – Panama'))\n",
        "  print(palindrom_detection('The Man Who Sold the World'))\n",
        "  print(palindrom_detection('TTf'))\n",
        "\n",
        "if __name__ == \"__main__\":\n",
        "    main()"
      ],
      "metadata": {
        "id": "OQOb47fdS1z7",
        "colab": {
          "base_uri": "https://localhost:8080/"
        },
        "outputId": "b4a2d550-3587-4122-91ac-3617822b7389"
      },
      "execution_count": 13,
      "outputs": [
        {
          "output_type": "stream",
          "name": "stdout",
          "text": [
            "madam is odd plindrome\n",
            "racecar is odd plindrome\n",
            "12/21/33 12:21 is even plindrome\n",
            "A man, a plan, a canal – Panama is odd plindrome\n",
            "The Man Who Sold the World is not a polindrome\n",
            "TTf is not a polindrome\n"
          ]
        }
      ]
    },
    {
      "cell_type": "markdown",
      "source": [
        "# Завдання 3 (необов'язкове завдання)\n",
        "\n",
        "Приклад очікуваного результату:\n",
        "\n",
        "\n",
        "```\n",
        "( ){[ 1 ]( 1 + 3 )( ){ }}: Симетрично\n",
        "( 23 ( 2 - 3);: Несиметрично\n",
        "( 11 }: Несиметрично\n",
        "\n",
        "```\n",
        "\n"
      ],
      "metadata": {
        "id": "7YMVZ8TAS2Wl"
      }
    },
    {
      "cell_type": "code",
      "source": [],
      "metadata": {
        "id": "rh8FG5JeTOzd"
      },
      "execution_count": null,
      "outputs": []
    }
  ]
}