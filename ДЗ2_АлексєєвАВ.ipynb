{
  "nbformat": 4,
  "nbformat_minor": 0,
  "metadata": {
    "colab": {
      "provenance": [],
      "authorship_tag": "ABX9TyM8lgkwqeui3AM43ndJtoJh",
      "include_colab_link": true
    },
    "kernelspec": {
      "name": "python3",
      "display_name": "Python 3"
    },
    "language_info": {
      "name": "python"
    }
  },
  "cells": [
    {
      "cell_type": "markdown",
      "metadata": {
        "id": "view-in-github",
        "colab_type": "text"
      },
      "source": [
        "<a href=\"https://colab.research.google.com/github/aaleksieiev/goit-algo-hw-02/blob/main/%D0%94%D0%972_%D0%90%D0%BB%D0%B5%D0%BA%D1%81%D1%94%D1%94%D0%B2%D0%90%D0%92.ipynb\" target=\"_parent\"><img src=\"https://colab.research.google.com/assets/colab-badge.svg\" alt=\"Open In Colab\"/></a>"
      ]
    },
    {
      "cell_type": "markdown",
      "source": [
        "# Домашнє завдання до теми “Основні структури даних”"
      ],
      "metadata": {
        "id": "MCtpIa-pRn0g"
      }
    },
    {
      "cell_type": "markdown",
      "source": [
        "# Завдання 1\n",
        "Потрібно розробити програму, яка імітує приймання й обробку заявок: програма має автоматично генерувати нові заявки (ідентифіковані унікальним номером або іншими даними), додавати їх до черги, а потім послідовно видаляти з черги для \"обробки\", імітуючи таким чином роботу сервісного центру."
      ],
      "metadata": {
        "id": "SSMFJEo8RujH"
      }
    },
    {
      "cell_type": "code",
      "source": [
        "import Queue\n",
        "\n",
        "Створити чергу заявок\n",
        "queue = Queue()\n",
        "\n",
        "Функція generate_request():\n",
        "    Створити нову заявку\n",
        "    Додати заявку до черги\n",
        "\n",
        "Функція process_request():\n",
        "    Якщо черга не пуста:\n",
        "        Видалити заявку з черги\n",
        "        Обробити заявку\n",
        "    Інакше:\n",
        "        Вивести повідомлення, що черга пуста\n",
        "\n",
        "Головний цикл програми:\n",
        "    Поки користувач не вийде з програми:\n",
        "        Виконати generate_request() для створення нових заявок\n",
        "        Виконати process_request() для обробки заявок\n"
      ],
      "metadata": {
        "id": "J51bIQ86Rvfn"
      },
      "execution_count": null,
      "outputs": []
    },
    {
      "cell_type": "markdown",
      "source": [
        "# Завдання 2\n",
        "\n",
        "Необхідно розробити функцію, яка приймає рядок як вхідний параметр, додає всі його символи до двосторонньої черги (deque з модуля collections в Python), а потім порівнює символи з обох кінців черги, щоб визначити, чи є рядок паліндромом. Програма повинна правильно враховувати як рядки з парною, так і з непарною кількістю символів, а також бути нечутливою до регістру та пробілів."
      ],
      "metadata": {
        "id": "njWJkTEaSW7z"
      }
    },
    {
      "cell_type": "code",
      "source": [],
      "metadata": {
        "id": "OQOb47fdS1z7"
      },
      "execution_count": null,
      "outputs": []
    },
    {
      "cell_type": "markdown",
      "source": [
        "# Завдання 3 (необов'язкове завдання)\n",
        "\n",
        "Приклад очікуваного результату:\n",
        "\n",
        "\n",
        "```\n",
        "( ){[ 1 ]( 1 + 3 )( ){ }}: Симетрично\n",
        "( 23 ( 2 - 3);: Несиметрично\n",
        "( 11 }: Несиметрично\n",
        "\n",
        "```\n",
        "\n"
      ],
      "metadata": {
        "id": "7YMVZ8TAS2Wl"
      }
    },
    {
      "cell_type": "code",
      "source": [],
      "metadata": {
        "id": "rh8FG5JeTOzd"
      },
      "execution_count": null,
      "outputs": []
    }
  ]
}